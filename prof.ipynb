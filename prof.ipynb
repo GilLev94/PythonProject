{
 "cells": [
  {
   "cell_type": "code",
   "execution_count": 9,
   "id": "b46f2d14",
   "metadata": {},
   "outputs": [],
   "source": [
    "from selenium import webdriver\n",
    "from selenium.webdriver.common.keys import Keys\n",
    "from selenium.webdriver.support import expected_conditions as EC\n",
    "from selenium.webdriver.common.by import By\n",
    "from selenium.webdriver.support.wait import WebDriverWait\n",
    "from selenium.webdriver.support.select import Select\n",
    "import pandas as pd\n",
    "import numpy as np\n",
    "from string import digits\n",
    "from sklearn.preprocessing import LabelEncoder\n",
    "import os\n",
    "from matplotlib import pyplot as plt\n",
    "import seaborn as sns"
   ]
  },
  {
   "cell_type": "markdown",
   "id": "1cceca39",
   "metadata": {},
   "source": [
    "\n",
    "ריצה על האתר https://www.wunderground.com/history/daily/il/haifa/LLHA\n",
    "\n",
    "בעזרת הסלניום רצנו על האתר והוצאנו ממנו את הנתונים מהטבלה"
   ]
  },
  {
   "cell_type": "code",
   "execution_count": null,
   "id": "9a030773",
   "metadata": {},
   "outputs": [],
   "source": [
    "driver = webdriver.Chrome('C:/Users/noamr/OneDrive/Desktop/לימודים/chromedriver.exe')\n",
    "driver.get('https://www.wunderground.com/history/daily/il/haifa/LLHA')"
   ]
  },
  {
   "cell_type": "markdown",
   "id": "6417e128",
   "metadata": {},
   "source": [
    "בנינו רשימות כדי ליצור מהם את הדאטה פריים"
   ]
  },
  {
   "cell_type": "code",
   "execution_count": 3,
   "id": "fb94a684",
   "metadata": {},
   "outputs": [],
   "source": [
    "time=[]\n",
    "temp=[]\n",
    "dewP=[]\n",
    "humi=[]\n",
    "wind=[]\n",
    "windS=[]\n",
    "wimdG=[]\n",
    "press=[]\n",
    "prec=[]\n",
    "cond=[]\n",
    "dayl=[]\n",
    "monthl=[]\n",
    "yearl=[]\n",
    "lists_list=(time,temp,dewP,humi,wind,windS,wimdG,press,prec,cond)"
   ]
  },
  {
   "cell_type": "markdown",
   "id": "7a14cc00",
   "metadata": {},
   "source": [
    "יצרנו פונקציה שמכניסה שמבודדת את התאים בטבלה שבאתר  ומכניסה כל מידע של תא לרשימה המתאימה לו"
   ]
  },
  {
   "cell_type": "code",
   "execution_count": 4,
   "id": "61693c66",
   "metadata": {},
   "outputs": [],
   "source": [
    "def listing(nday2,nmonth2,nyear2):\n",
    "    wait = WebDriverWait(driver, 10, poll_frequency=1)\n",
    "    element = wait.until(EC.element_to_be_clickable((By.ID,'yearSelection')))\n",
    "    elements = driver.find_elements(By.TAG_NAME, 'td')\n",
    "    i=0\n",
    "\n",
    "\n",
    "\n",
    "    while i<len(elements):\n",
    "        for j in lists_list:\n",
    "            j.append(elements[i].text)\n",
    "            i=i+1\n",
    "        dayl.append(nday2)\n",
    "        monthl.append(nmonth2)\n",
    "        yearl.append(nyear2)\n",
    "                "
   ]
  },
  {
   "cell_type": "markdown",
   "id": "22d94d12",
   "metadata": {},
   "source": [
    "בעזרת סלניום העברנו ימים מה1.1.2019 עד ה31.12.2019\n",
    "ובכל יום קראנו לפונקציה שהגדרנו למעלה כדי להכניס את המידע מהטבלה של אותו היום"
   ]
  },
  {
   "cell_type": "code",
   "execution_count": null,
   "id": "1b9465d4",
   "metadata": {
    "pycharm": {
     "is_executing": true
    }
   },
   "outputs": [],
   "source": [
    "wait = WebDriverWait(driver, 10, poll_frequency=1)\n",
    "element = wait.until(EC.element_to_be_clickable((By.ID,'yearSelection')))\n",
    "\n",
    "for year in range(1, 4):\n",
    "    select_element3 = driver.find_element(By.ID,'yearSelection')\n",
    "    select_object3 = Select(select_element3)\n",
    "    select_object3.select_by_index(year)\n",
    "    for mon in range(12):\n",
    "        select_element1 = driver.find_element(By.ID,'monthSelection')\n",
    "        select_object1 = Select(select_element1)\n",
    "        select_object1.select_by_index(mon)\n",
    "        select_element2 = driver.find_element(By.ID,'daySelection')\n",
    "        select_object2 = Select(select_element2)\n",
    "        dayRange = select_object2.options\n",
    "        for day in range(len(dayRange)):\n",
    "            wait = WebDriverWait(driver, 10, poll_frequency=1)\n",
    "            element = wait.until(EC.element_to_be_clickable((By.ID,'yearSelection')))\n",
    "            select_element2 = driver.find_element(By.ID,'daySelection')\n",
    "            select_object2 = Select(select_element2)\n",
    "            select_object2.select_by_index(day)\n",
    "            view = driver.find_element(By.ID, \"dateSubmit\")\n",
    "            view.click()\n",
    "            listing(day+1,mon+1,2022-year)"
   ]
  },
  {
   "cell_type": "markdown",
   "id": "cc5cb3ec",
   "metadata": {},
   "source": [
    "הכנסנו את הרשימות המלאות לתוך דאטה פריים"
   ]
  },
  {
   "cell_type": "code",
   "execution_count": 6,
   "id": "71d8da2a",
   "metadata": {},
   "outputs": [
    {
     "data": {
      "text/plain": "        time   temp   dewP  humi wind   windS  wimdG     press    prec  cond  \\\n0    7:00 AM  61 °F  48 °F  63 %   SE  10 mph  0 mph  30.03 in  0.0 in  Fair   \n1    7:50 AM  61 °F  48 °F  63 %   SE  13 mph  0 mph  30.03 in  0.0 in  Fair   \n2    8:50 AM  63 °F  50 °F  63 %   SE   9 mph  0 mph  30.06 in  0.0 in  Fair   \n3    9:50 AM  64 °F  50 °F  59 %   SE  12 mph  0 mph  30.06 in  0.0 in  Fair   \n4   10:50 AM  66 °F  50 °F  56 %  ESE  14 mph  0 mph  30.03 in  0.0 in  Fair   \n..       ...    ...    ...   ...  ...     ...    ...       ...     ...   ...   \n60   7:50 AM  63 °F  46 °F  55 %   SE  15 mph  0 mph  30.03 in  0.0 in  Fair   \n61   8:50 AM  64 °F  46 °F  52 %   SE  13 mph  0 mph  30.03 in  0.0 in  Fair   \n62   9:50 AM  66 °F  46 °F  49 %  ESE  18 mph  0 mph  30.03 in  0.0 in  Fair   \n63  10:50 AM  70 °F  46 °F  43 %    E  15 mph  0 mph  30.03 in  0.0 in  Fair   \n64  11:50 AM  70 °F  48 °F  46 %  ESE  17 mph  0 mph  30.00 in  0.0 in  Fair   \n\n    day  month  year  \n0     1      1  2021  \n1     1      1  2021  \n2     1      1  2021  \n3     1      1  2021  \n4     1      1  2021  \n..  ...    ...   ...  \n60    5      1  2021  \n61    5      1  2021  \n62    5      1  2021  \n63    5      1  2021  \n64    5      1  2021  \n\n[65 rows x 13 columns]",
      "text/html": "<div>\n<style scoped>\n    .dataframe tbody tr th:only-of-type {\n        vertical-align: middle;\n    }\n\n    .dataframe tbody tr th {\n        vertical-align: top;\n    }\n\n    .dataframe thead th {\n        text-align: right;\n    }\n</style>\n<table border=\"1\" class=\"dataframe\">\n  <thead>\n    <tr style=\"text-align: right;\">\n      <th></th>\n      <th>time</th>\n      <th>temp</th>\n      <th>dewP</th>\n      <th>humi</th>\n      <th>wind</th>\n      <th>windS</th>\n      <th>wimdG</th>\n      <th>press</th>\n      <th>prec</th>\n      <th>cond</th>\n      <th>day</th>\n      <th>month</th>\n      <th>year</th>\n    </tr>\n  </thead>\n  <tbody>\n    <tr>\n      <th>0</th>\n      <td>7:00 AM</td>\n      <td>61 °F</td>\n      <td>48 °F</td>\n      <td>63 %</td>\n      <td>SE</td>\n      <td>10 mph</td>\n      <td>0 mph</td>\n      <td>30.03 in</td>\n      <td>0.0 in</td>\n      <td>Fair</td>\n      <td>1</td>\n      <td>1</td>\n      <td>2021</td>\n    </tr>\n    <tr>\n      <th>1</th>\n      <td>7:50 AM</td>\n      <td>61 °F</td>\n      <td>48 °F</td>\n      <td>63 %</td>\n      <td>SE</td>\n      <td>13 mph</td>\n      <td>0 mph</td>\n      <td>30.03 in</td>\n      <td>0.0 in</td>\n      <td>Fair</td>\n      <td>1</td>\n      <td>1</td>\n      <td>2021</td>\n    </tr>\n    <tr>\n      <th>2</th>\n      <td>8:50 AM</td>\n      <td>63 °F</td>\n      <td>50 °F</td>\n      <td>63 %</td>\n      <td>SE</td>\n      <td>9 mph</td>\n      <td>0 mph</td>\n      <td>30.06 in</td>\n      <td>0.0 in</td>\n      <td>Fair</td>\n      <td>1</td>\n      <td>1</td>\n      <td>2021</td>\n    </tr>\n    <tr>\n      <th>3</th>\n      <td>9:50 AM</td>\n      <td>64 °F</td>\n      <td>50 °F</td>\n      <td>59 %</td>\n      <td>SE</td>\n      <td>12 mph</td>\n      <td>0 mph</td>\n      <td>30.06 in</td>\n      <td>0.0 in</td>\n      <td>Fair</td>\n      <td>1</td>\n      <td>1</td>\n      <td>2021</td>\n    </tr>\n    <tr>\n      <th>4</th>\n      <td>10:50 AM</td>\n      <td>66 °F</td>\n      <td>50 °F</td>\n      <td>56 %</td>\n      <td>ESE</td>\n      <td>14 mph</td>\n      <td>0 mph</td>\n      <td>30.03 in</td>\n      <td>0.0 in</td>\n      <td>Fair</td>\n      <td>1</td>\n      <td>1</td>\n      <td>2021</td>\n    </tr>\n    <tr>\n      <th>...</th>\n      <td>...</td>\n      <td>...</td>\n      <td>...</td>\n      <td>...</td>\n      <td>...</td>\n      <td>...</td>\n      <td>...</td>\n      <td>...</td>\n      <td>...</td>\n      <td>...</td>\n      <td>...</td>\n      <td>...</td>\n      <td>...</td>\n    </tr>\n    <tr>\n      <th>60</th>\n      <td>7:50 AM</td>\n      <td>63 °F</td>\n      <td>46 °F</td>\n      <td>55 %</td>\n      <td>SE</td>\n      <td>15 mph</td>\n      <td>0 mph</td>\n      <td>30.03 in</td>\n      <td>0.0 in</td>\n      <td>Fair</td>\n      <td>5</td>\n      <td>1</td>\n      <td>2021</td>\n    </tr>\n    <tr>\n      <th>61</th>\n      <td>8:50 AM</td>\n      <td>64 °F</td>\n      <td>46 °F</td>\n      <td>52 %</td>\n      <td>SE</td>\n      <td>13 mph</td>\n      <td>0 mph</td>\n      <td>30.03 in</td>\n      <td>0.0 in</td>\n      <td>Fair</td>\n      <td>5</td>\n      <td>1</td>\n      <td>2021</td>\n    </tr>\n    <tr>\n      <th>62</th>\n      <td>9:50 AM</td>\n      <td>66 °F</td>\n      <td>46 °F</td>\n      <td>49 %</td>\n      <td>ESE</td>\n      <td>18 mph</td>\n      <td>0 mph</td>\n      <td>30.03 in</td>\n      <td>0.0 in</td>\n      <td>Fair</td>\n      <td>5</td>\n      <td>1</td>\n      <td>2021</td>\n    </tr>\n    <tr>\n      <th>63</th>\n      <td>10:50 AM</td>\n      <td>70 °F</td>\n      <td>46 °F</td>\n      <td>43 %</td>\n      <td>E</td>\n      <td>15 mph</td>\n      <td>0 mph</td>\n      <td>30.03 in</td>\n      <td>0.0 in</td>\n      <td>Fair</td>\n      <td>5</td>\n      <td>1</td>\n      <td>2021</td>\n    </tr>\n    <tr>\n      <th>64</th>\n      <td>11:50 AM</td>\n      <td>70 °F</td>\n      <td>48 °F</td>\n      <td>46 %</td>\n      <td>ESE</td>\n      <td>17 mph</td>\n      <td>0 mph</td>\n      <td>30.00 in</td>\n      <td>0.0 in</td>\n      <td>Fair</td>\n      <td>5</td>\n      <td>1</td>\n      <td>2021</td>\n    </tr>\n  </tbody>\n</table>\n<p>65 rows × 13 columns</p>\n</div>"
     },
     "execution_count": 6,
     "metadata": {},
     "output_type": "execute_result"
    }
   ],
   "source": [
    "lists_list=(time,temp,dewP,humi,wind,windS,wimdG,press,prec,cond)\n",
    "df = pd.DataFrame(list(zip(time,temp,dewP,humi,wind,windS,wimdG,press,prec,cond,dayl,monthl,yearl)),columns =['time','temp','dewP','humi','wind','windS','wimdG','press','prec','cond','day','month','year'])\n",
    "df"
   ]
  },
  {
   "cell_type": "markdown",
   "id": "215306b5",
   "metadata": {},
   "source": [
    " הוצאנו את הדאטה פריים למחשב כקובץ סי.אס.וי"
   ]
  },
  {
   "cell_type": "code",
   "execution_count": null,
   "id": "6d6c69ce",
   "metadata": {
    "pycharm": {
     "is_executing": true
    }
   },
   "outputs": [],
   "source": [
    "compression_opts = dict(method='zip',\n",
    "                        archive_name='proj.csv')  \n",
    "df.to_csv('out3.zip', index=False,\n",
    "          compression=compression_opts)"
   ]
  },
  {
   "cell_type": "code",
   "execution_count": 10,
   "id": "551a080c",
   "metadata": {},
   "outputs": [
    {
     "name": "stdout",
     "output_type": "stream",
     "text": [
      "<class 'pandas.core.frame.DataFrame'>\n",
      "RangeIndex: 15250 entries, 0 to 15249\n",
      "Data columns (total 13 columns):\n",
      " #   Column  Non-Null Count  Dtype \n",
      "---  ------  --------------  ----- \n",
      " 0   time    15250 non-null  object\n",
      " 1   temp    15250 non-null  object\n",
      " 2   dewP    15250 non-null  object\n",
      " 3   humi    15250 non-null  object\n",
      " 4   wind    15242 non-null  object\n",
      " 5   windS   15250 non-null  object\n",
      " 6   wimdG   15250 non-null  object\n",
      " 7   press   15250 non-null  object\n",
      " 8   prec    15250 non-null  object\n",
      " 9   cond    15250 non-null  object\n",
      " 10  day     15250 non-null  int64 \n",
      " 11  month   15250 non-null  int64 \n",
      " 12  year    15250 non-null  int64 \n",
      "dtypes: int64(3), object(10)\n",
      "memory usage: 1.5+ MB\n"
     ]
    }
   ],
   "source": [
    "dff = pd.read_csv('C:/Users/noamr/proj.csv')\n",
    "dff.info()"
   ]
  },
  {
   "cell_type": "code",
   "execution_count": 11,
   "id": "9099aeab",
   "metadata": {},
   "outputs": [],
   "source": [
    "def change_to_int(col_name):  ## פונקציה להפיכת המספרים לנומרים\n",
    "    for i in range(len(dff[col_name])):\n",
    "        dff[col_name][i] = ''.join(c for c in dff[col_name][i] if c in digits)\n",
    "        dff[col_name][i] = int(dff[col_name][i])"
   ]
  },
  {
   "cell_type": "markdown",
   "source": [
    "  המרנו את הנתונים לנומרים, ובדקנו כפילויות"
   ],
   "metadata": {
    "collapsed": false
   }
  },
  {
   "cell_type": "code",
   "execution_count": 12,
   "outputs": [
    {
     "name": "stderr",
     "output_type": "stream",
     "text": [
      "<ipython-input-11-3e6965cb4e77>:3: SettingWithCopyWarning: \n",
      "A value is trying to be set on a copy of a slice from a DataFrame\n",
      "\n",
      "See the caveats in the documentation: https://pandas.pydata.org/pandas-docs/stable/user_guide/indexing.html#returning-a-view-versus-a-copy\n",
      "  dff[col_name][i] = ''.join(c for c in dff[col_name][i] if c in digits)\n",
      "<ipython-input-11-3e6965cb4e77>:4: SettingWithCopyWarning: \n",
      "A value is trying to be set on a copy of a slice from a DataFrame\n",
      "\n",
      "See the caveats in the documentation: https://pandas.pydata.org/pandas-docs/stable/user_guide/indexing.html#returning-a-view-versus-a-copy\n",
      "  dff[col_name][i] = int(dff[col_name][i])\n"
     ]
    },
    {
     "name": "stdout",
     "output_type": "stream",
     "text": [
      "finish whit:time\n",
      "finish whit:temp\n",
      "finish whit:dewP\n",
      "finish whit:humi\n",
      "finish whit:windS\n",
      "finish whit:wimdG\n",
      "finish whit:press\n",
      "finish whit:prec\n"
     ]
    }
   ],
   "source": [
    "list_to_int = ('time', 'temp', 'dewP', 'humi', 'windS', 'wimdG', 'press', 'prec')\n",
    "for i in list_to_int:\n",
    "    change_to_int(i)\n",
    "    dff[i]=dff[i].astype('int64')\n",
    "    dff.drop_duplicates(i,'first')\n",
    "\n",
    "    print(r'finish whit:' + i)"
   ],
   "metadata": {
    "collapsed": false,
    "pycharm": {
     "name": "#%%\n"
    }
   }
  },
  {
   "cell_type": "code",
   "execution_count": 13,
   "outputs": [],
   "source": [
    "dff['cond']=LabelEncoder().fit_transform(dff['cond'])"
   ],
   "metadata": {
    "collapsed": false,
    "pycharm": {
     "name": "#%%\n"
    }
   }
  },
  {
   "cell_type": "code",
   "execution_count": 14,
   "outputs": [
    {
     "data": {
      "text/plain": "       time  temp  dewP  humi wind  windS  wimdG  press  prec  cond  day  \\\n0       700    61    48    63   SE     10      0   3003     0     4    1   \n1       750    61    48    63   SE     13      0   3003     0     4    1   \n2       850    63    50    63   SE      9      0   3006     0     4    1   \n3       950    64    50    59   SE     12      0   3006     0     4    1   \n4      1050    66    50    56  ESE     14      0   3003     0     4    1   \n...     ...   ...   ...   ...  ...    ...    ...    ...   ...   ...  ...   \n15245   350    59    45    59  SSW      5      0   3009     0     4   31   \n15246   450    59    46    63  VAR      2      0   3009     0     4   31   \n15247   550    57    46    67  VAR      3      0   3009     0     4   31   \n15248   650    55    48    77  VAR      3      0   3012     0     4   31   \n15249   750    54    46    77    E      5      0   3012     0     4   31   \n\n       month  year  \n0          1  2021  \n1          1  2021  \n2          1  2021  \n3          1  2021  \n4          1  2021  \n...      ...   ...  \n15245     12  2019  \n15246     12  2019  \n15247     12  2019  \n15248     12  2019  \n15249     12  2019  \n\n[15250 rows x 13 columns]",
      "text/html": "<div>\n<style scoped>\n    .dataframe tbody tr th:only-of-type {\n        vertical-align: middle;\n    }\n\n    .dataframe tbody tr th {\n        vertical-align: top;\n    }\n\n    .dataframe thead th {\n        text-align: right;\n    }\n</style>\n<table border=\"1\" class=\"dataframe\">\n  <thead>\n    <tr style=\"text-align: right;\">\n      <th></th>\n      <th>time</th>\n      <th>temp</th>\n      <th>dewP</th>\n      <th>humi</th>\n      <th>wind</th>\n      <th>windS</th>\n      <th>wimdG</th>\n      <th>press</th>\n      <th>prec</th>\n      <th>cond</th>\n      <th>day</th>\n      <th>month</th>\n      <th>year</th>\n    </tr>\n  </thead>\n  <tbody>\n    <tr>\n      <th>0</th>\n      <td>700</td>\n      <td>61</td>\n      <td>48</td>\n      <td>63</td>\n      <td>SE</td>\n      <td>10</td>\n      <td>0</td>\n      <td>3003</td>\n      <td>0</td>\n      <td>4</td>\n      <td>1</td>\n      <td>1</td>\n      <td>2021</td>\n    </tr>\n    <tr>\n      <th>1</th>\n      <td>750</td>\n      <td>61</td>\n      <td>48</td>\n      <td>63</td>\n      <td>SE</td>\n      <td>13</td>\n      <td>0</td>\n      <td>3003</td>\n      <td>0</td>\n      <td>4</td>\n      <td>1</td>\n      <td>1</td>\n      <td>2021</td>\n    </tr>\n    <tr>\n      <th>2</th>\n      <td>850</td>\n      <td>63</td>\n      <td>50</td>\n      <td>63</td>\n      <td>SE</td>\n      <td>9</td>\n      <td>0</td>\n      <td>3006</td>\n      <td>0</td>\n      <td>4</td>\n      <td>1</td>\n      <td>1</td>\n      <td>2021</td>\n    </tr>\n    <tr>\n      <th>3</th>\n      <td>950</td>\n      <td>64</td>\n      <td>50</td>\n      <td>59</td>\n      <td>SE</td>\n      <td>12</td>\n      <td>0</td>\n      <td>3006</td>\n      <td>0</td>\n      <td>4</td>\n      <td>1</td>\n      <td>1</td>\n      <td>2021</td>\n    </tr>\n    <tr>\n      <th>4</th>\n      <td>1050</td>\n      <td>66</td>\n      <td>50</td>\n      <td>56</td>\n      <td>ESE</td>\n      <td>14</td>\n      <td>0</td>\n      <td>3003</td>\n      <td>0</td>\n      <td>4</td>\n      <td>1</td>\n      <td>1</td>\n      <td>2021</td>\n    </tr>\n    <tr>\n      <th>...</th>\n      <td>...</td>\n      <td>...</td>\n      <td>...</td>\n      <td>...</td>\n      <td>...</td>\n      <td>...</td>\n      <td>...</td>\n      <td>...</td>\n      <td>...</td>\n      <td>...</td>\n      <td>...</td>\n      <td>...</td>\n      <td>...</td>\n    </tr>\n    <tr>\n      <th>15245</th>\n      <td>350</td>\n      <td>59</td>\n      <td>45</td>\n      <td>59</td>\n      <td>SSW</td>\n      <td>5</td>\n      <td>0</td>\n      <td>3009</td>\n      <td>0</td>\n      <td>4</td>\n      <td>31</td>\n      <td>12</td>\n      <td>2019</td>\n    </tr>\n    <tr>\n      <th>15246</th>\n      <td>450</td>\n      <td>59</td>\n      <td>46</td>\n      <td>63</td>\n      <td>VAR</td>\n      <td>2</td>\n      <td>0</td>\n      <td>3009</td>\n      <td>0</td>\n      <td>4</td>\n      <td>31</td>\n      <td>12</td>\n      <td>2019</td>\n    </tr>\n    <tr>\n      <th>15247</th>\n      <td>550</td>\n      <td>57</td>\n      <td>46</td>\n      <td>67</td>\n      <td>VAR</td>\n      <td>3</td>\n      <td>0</td>\n      <td>3009</td>\n      <td>0</td>\n      <td>4</td>\n      <td>31</td>\n      <td>12</td>\n      <td>2019</td>\n    </tr>\n    <tr>\n      <th>15248</th>\n      <td>650</td>\n      <td>55</td>\n      <td>48</td>\n      <td>77</td>\n      <td>VAR</td>\n      <td>3</td>\n      <td>0</td>\n      <td>3012</td>\n      <td>0</td>\n      <td>4</td>\n      <td>31</td>\n      <td>12</td>\n      <td>2019</td>\n    </tr>\n    <tr>\n      <th>15249</th>\n      <td>750</td>\n      <td>54</td>\n      <td>46</td>\n      <td>77</td>\n      <td>E</td>\n      <td>5</td>\n      <td>0</td>\n      <td>3012</td>\n      <td>0</td>\n      <td>4</td>\n      <td>31</td>\n      <td>12</td>\n      <td>2019</td>\n    </tr>\n  </tbody>\n</table>\n<p>15250 rows × 13 columns</p>\n</div>"
     },
     "execution_count": 14,
     "metadata": {},
     "output_type": "execute_result"
    }
   ],
   "source": [
    "dff"
   ],
   "metadata": {
    "collapsed": false,
    "pycharm": {
     "name": "#%%\n"
    }
   }
  },
  {
   "cell_type": "code",
   "execution_count": 15,
   "outputs": [
    {
     "name": "stdout",
     "output_type": "stream",
     "text": [
      "<class 'pandas.core.frame.DataFrame'>\n",
      "RangeIndex: 15250 entries, 0 to 15249\n",
      "Data columns (total 13 columns):\n",
      " #   Column  Non-Null Count  Dtype \n",
      "---  ------  --------------  ----- \n",
      " 0   time    15250 non-null  int64 \n",
      " 1   temp    15250 non-null  int64 \n",
      " 2   dewP    15250 non-null  int64 \n",
      " 3   humi    15250 non-null  int64 \n",
      " 4   wind    15242 non-null  object\n",
      " 5   windS   15250 non-null  int64 \n",
      " 6   wimdG   15250 non-null  int64 \n",
      " 7   press   15250 non-null  int64 \n",
      " 8   prec    15250 non-null  int64 \n",
      " 9   cond    15250 non-null  int32 \n",
      " 10  day     15250 non-null  int64 \n",
      " 11  month   15250 non-null  int64 \n",
      " 12  year    15250 non-null  int64 \n",
      "dtypes: int32(1), int64(11), object(1)\n",
      "memory usage: 1.5+ MB\n"
     ]
    }
   ],
   "source": [
    "dff.info()"
   ],
   "metadata": {
    "collapsed": false,
    "pycharm": {
     "name": "#%%\n"
    }
   }
  },
  {
   "cell_type": "code",
   "execution_count": 16,
   "outputs": [
    {
     "data": {
      "text/plain": "time     0\ntemp     0\ndewP     0\nhumi     0\nwind     8\nwindS    0\nwimdG    0\npress    0\nprec     0\ncond     0\nday      0\nmonth    0\nyear     0\ndtype: int64"
     },
     "execution_count": 16,
     "metadata": {},
     "output_type": "execute_result"
    }
   ],
   "source": [
    "dff.isnull().sum()"
   ],
   "metadata": {
    "collapsed": false,
    "pycharm": {
     "name": "#%%\n"
    }
   }
  },
  {
   "cell_type": "markdown",
   "source": [
    "  טיפול בחריגים"
   ],
   "metadata": {
    "collapsed": false,
    "pycharm": {
     "name": "#%% md\n"
    }
   }
  },
  {
   "cell_type": "code",
   "execution_count": 17,
   "outputs": [
    {
     "name": "stderr",
     "output_type": "stream",
     "text": [
      "<ipython-input-17-4ef7a36202d3>:6: SettingWithCopyWarning: \n",
      "A value is trying to be set on a copy of a slice from a DataFrame\n",
      "\n",
      "See the caveats in the documentation: https://pandas.pydata.org/pandas-docs/stable/user_guide/indexing.html#returning-a-view-versus-a-copy\n",
      "  dff[col_Name][(dff[col_Name] < Q1 - IQR_range) | (dff[col_Name] > Q3 + IQR_range )]=np.nan\n",
      "<ipython-input-17-4ef7a36202d3>:6: SettingWithCopyWarning: \n",
      "A value is trying to be set on a copy of a slice from a DataFrame\n",
      "\n",
      "See the caveats in the documentation: https://pandas.pydata.org/pandas-docs/stable/user_guide/indexing.html#returning-a-view-versus-a-copy\n",
      "  dff[col_Name][(dff[col_Name] < Q1 - IQR_range) | (dff[col_Name] > Q3 + IQR_range )]=np.nan\n",
      "<ipython-input-17-4ef7a36202d3>:6: SettingWithCopyWarning: \n",
      "A value is trying to be set on a copy of a slice from a DataFrame\n",
      "\n",
      "See the caveats in the documentation: https://pandas.pydata.org/pandas-docs/stable/user_guide/indexing.html#returning-a-view-versus-a-copy\n",
      "  dff[col_Name][(dff[col_Name] < Q1 - IQR_range) | (dff[col_Name] > Q3 + IQR_range )]=np.nan\n",
      "<ipython-input-17-4ef7a36202d3>:6: SettingWithCopyWarning: \n",
      "A value is trying to be set on a copy of a slice from a DataFrame\n",
      "\n",
      "See the caveats in the documentation: https://pandas.pydata.org/pandas-docs/stable/user_guide/indexing.html#returning-a-view-versus-a-copy\n",
      "  dff[col_Name][(dff[col_Name] < Q1 - IQR_range) | (dff[col_Name] > Q3 + IQR_range )]=np.nan\n",
      "<ipython-input-17-4ef7a36202d3>:6: SettingWithCopyWarning: \n",
      "A value is trying to be set on a copy of a slice from a DataFrame\n",
      "\n",
      "See the caveats in the documentation: https://pandas.pydata.org/pandas-docs/stable/user_guide/indexing.html#returning-a-view-versus-a-copy\n",
      "  dff[col_Name][(dff[col_Name] < Q1 - IQR_range) | (dff[col_Name] > Q3 + IQR_range )]=np.nan\n",
      "<ipython-input-17-4ef7a36202d3>:6: SettingWithCopyWarning: \n",
      "A value is trying to be set on a copy of a slice from a DataFrame\n",
      "\n",
      "See the caveats in the documentation: https://pandas.pydata.org/pandas-docs/stable/user_guide/indexing.html#returning-a-view-versus-a-copy\n",
      "  dff[col_Name][(dff[col_Name] < Q1 - IQR_range) | (dff[col_Name] > Q3 + IQR_range )]=np.nan\n",
      "<ipython-input-17-4ef7a36202d3>:6: SettingWithCopyWarning: \n",
      "A value is trying to be set on a copy of a slice from a DataFrame\n",
      "\n",
      "See the caveats in the documentation: https://pandas.pydata.org/pandas-docs/stable/user_guide/indexing.html#returning-a-view-versus-a-copy\n",
      "  dff[col_Name][(dff[col_Name] < Q1 - IQR_range) | (dff[col_Name] > Q3 + IQR_range )]=np.nan\n",
      "<ipython-input-17-4ef7a36202d3>:6: SettingWithCopyWarning: \n",
      "A value is trying to be set on a copy of a slice from a DataFrame\n",
      "\n",
      "See the caveats in the documentation: https://pandas.pydata.org/pandas-docs/stable/user_guide/indexing.html#returning-a-view-versus-a-copy\n",
      "  dff[col_Name][(dff[col_Name] < Q1 - IQR_range) | (dff[col_Name] > Q3 + IQR_range )]=np.nan\n",
      "<ipython-input-17-4ef7a36202d3>:6: SettingWithCopyWarning: \n",
      "A value is trying to be set on a copy of a slice from a DataFrame\n",
      "\n",
      "See the caveats in the documentation: https://pandas.pydata.org/pandas-docs/stable/user_guide/indexing.html#returning-a-view-versus-a-copy\n",
      "  dff[col_Name][(dff[col_Name] < Q1 - IQR_range) | (dff[col_Name] > Q3 + IQR_range )]=np.nan\n",
      "<ipython-input-17-4ef7a36202d3>:6: SettingWithCopyWarning: \n",
      "A value is trying to be set on a copy of a slice from a DataFrame\n",
      "\n",
      "See the caveats in the documentation: https://pandas.pydata.org/pandas-docs/stable/user_guide/indexing.html#returning-a-view-versus-a-copy\n",
      "  dff[col_Name][(dff[col_Name] < Q1 - IQR_range) | (dff[col_Name] > Q3 + IQR_range )]=np.nan\n",
      "<ipython-input-17-4ef7a36202d3>:6: SettingWithCopyWarning: \n",
      "A value is trying to be set on a copy of a slice from a DataFrame\n",
      "\n",
      "See the caveats in the documentation: https://pandas.pydata.org/pandas-docs/stable/user_guide/indexing.html#returning-a-view-versus-a-copy\n",
      "  dff[col_Name][(dff[col_Name] < Q1 - IQR_range) | (dff[col_Name] > Q3 + IQR_range )]=np.nan\n",
      "<ipython-input-17-4ef7a36202d3>:6: SettingWithCopyWarning: \n",
      "A value is trying to be set on a copy of a slice from a DataFrame\n",
      "\n",
      "See the caveats in the documentation: https://pandas.pydata.org/pandas-docs/stable/user_guide/indexing.html#returning-a-view-versus-a-copy\n",
      "  dff[col_Name][(dff[col_Name] < Q1 - IQR_range) | (dff[col_Name] > Q3 + IQR_range )]=np.nan\n"
     ]
    }
   ],
   "source": [
    "for col_Name,col_data in dff.describe().items():\n",
    "    Q1 = np.percentile(dff[col_Name], 25)\n",
    "    Q3 = np.percentile(dff[col_Name], 75)\n",
    "    IQR = Q3 - Q1\n",
    "    IQR_range = 1.5 * IQR\n",
    "    dff[col_Name][(dff[col_Name] < Q1 - IQR_range) | (dff[col_Name] > Q3 + IQR_range )]=np.nan"
   ],
   "metadata": {
    "collapsed": false,
    "pycharm": {
     "name": "#%%\n"
    }
   }
  },
  {
   "cell_type": "code",
   "execution_count": 18,
   "outputs": [
    {
     "data": {
      "text/plain": "time       0\ntemp      30\ndewP      70\nhumi     448\nwind       8\nwindS     65\nwimdG    389\npress    100\nprec       0\ncond       0\nday        0\nmonth      0\nyear       0\ndtype: int64"
     },
     "execution_count": 18,
     "metadata": {},
     "output_type": "execute_result"
    }
   ],
   "source": [
    "dff.isnull().sum()"
   ],
   "metadata": {
    "collapsed": false,
    "pycharm": {
     "name": "#%%\n"
    }
   }
  },
  {
   "cell_type": "code",
   "execution_count": 19,
   "outputs": [],
   "source": [
    "#dff.dropna(axis=0)\n",
    "dff.fillna(dff.median(axis=0, numeric_only=True), inplace=True)\n",
    "dff.fillna(dff.mode, inplace=True)"
   ],
   "metadata": {
    "collapsed": false,
    "pycharm": {
     "name": "#%%\n"
    }
   }
  },
  {
   "cell_type": "code",
   "execution_count": 20,
   "outputs": [
    {
     "data": {
      "text/plain": "time     0\ntemp     0\ndewP     0\nhumi     0\nwind     0\nwindS    0\nwimdG    0\npress    0\nprec     0\ncond     0\nday      0\nmonth    0\nyear     0\ndtype: int64"
     },
     "execution_count": 20,
     "metadata": {},
     "output_type": "execute_result"
    }
   ],
   "source": [
    "dff.isnull().sum()"
   ],
   "metadata": {
    "collapsed": false,
    "pycharm": {
     "name": "#%%\n"
    }
   }
  },
  {
   "cell_type": "code",
   "execution_count": 21,
   "outputs": [
    {
     "name": "stdout",
     "output_type": "stream",
     "text": [
      "<class 'pandas.core.frame.DataFrame'>\n",
      "RangeIndex: 15250 entries, 0 to 15249\n",
      "Data columns (total 13 columns):\n",
      " #   Column  Non-Null Count  Dtype  \n",
      "---  ------  --------------  -----  \n",
      " 0   time    15250 non-null  int64  \n",
      " 1   temp    15250 non-null  float64\n",
      " 2   dewP    15250 non-null  float64\n",
      " 3   humi    15250 non-null  float64\n",
      " 4   wind    15250 non-null  object \n",
      " 5   windS   15250 non-null  float64\n",
      " 6   wimdG   15250 non-null  float64\n",
      " 7   press   15250 non-null  float64\n",
      " 8   prec    15250 non-null  int64  \n",
      " 9   cond    15250 non-null  int32  \n",
      " 10  day     15250 non-null  int64  \n",
      " 11  month   15250 non-null  int64  \n",
      " 12  year    15250 non-null  int64  \n",
      "dtypes: float64(6), int32(1), int64(5), object(1)\n",
      "memory usage: 1.5+ MB\n"
     ]
    }
   ],
   "source": [
    "dff.info()"
   ],
   "metadata": {
    "collapsed": false,
    "pycharm": {
     "name": "#%%\n"
    }
   }
  },
  {
   "cell_type": "markdown",
   "source": [
    "  ויזואליזציה"
   ],
   "metadata": {
    "collapsed": false,
    "pycharm": {
     "name": "#%% md\n"
    }
   }
  },
  {
   "cell_type": "code",
   "execution_count": 23,
   "outputs": [],
   "source": [
    "dff21=dff.loc[dff['year'] == 2021]\n",
    "dff20=dff.loc[dff['year'] == 2020]\n",
    "dff19=dff.loc[dff['year'] == 2019]"
   ],
   "metadata": {
    "collapsed": false,
    "pycharm": {
     "name": "#%%\n"
    }
   }
  },
  {
   "cell_type": "code",
   "execution_count": 28,
   "outputs": [],
   "source": [
    "fig, axs = plt.subplots(1, 3, figsize=(20, 5),sharey=True)\n",
    "axs[0].hist(dff19.temp, bins=50)\n",
    "axs[1].hist(dff20.temp, bins=50)\n",
    "axs[2].hist(dff21.temp, bins=50)\n",
    "plt.xlabel(\"Temperature\")\n",
    "plt.ylabel(\"Frequency\")"
   ],
   "metadata": {
    "collapsed": false,
    "pycharm": {
     "name": "#%%\n"
    }
   }
  },
  {
   "cell_type": "code",
   "execution_count": null,
   "outputs": [],
   "source": [
    "fig, axs = plt.subplots(1, 3, figsize=(20, 5),sharey=True)\n",
    "axs[0].hist(dff19.humi, bins=50)\n",
    "axs[1].hist(dff20.humi, bins=50)\n",
    "axs[2].hist(dff21.humi, bins=50)\n",
    "plt.xlabel(\"humi\")\n",
    "plt.ylabel(\"Frequency\")"
   ],
   "metadata": {
    "collapsed": false,
    "pycharm": {
     "name": "#%%\n"
    }
   }
  },
  {
   "cell_type": "code",
   "execution_count": null,
   "outputs": [],
   "source": [
    "fig, axs = plt.subplots(1, 3, figsize=(20, 5),sharey=True)\n",
    "axs[0].hist(dff19.cond, bins=4)\n",
    "axs[1].hist(dff20.cond, bins=4)\n",
    "axs[2].hist(dff21.cond, bins=4)\n",
    "plt.xlabel(\"cond\")\n",
    "plt.ylabel(\"Frequency\")"
   ],
   "metadata": {
    "collapsed": false,
    "pycharm": {
     "name": "#%%\n"
    }
   }
  },
  {
   "cell_type": "code",
   "execution_count": null,
   "outputs": [],
   "source": [
    "def month(dff,month):\n",
    "    for i in range(12):\n",
    "        a = dff.loc[dff['month'] == i]\n",
    "        month.append(a['temp'].mean())"
   ],
   "metadata": {
    "collapsed": false,
    "pycharm": {
     "name": "#%%\n"
    }
   }
  },
  {
   "cell_type": "code",
   "execution_count": null,
   "outputs": [],
   "source": [
    "month19=[]\n",
    "month20=[]\n",
    "month21=[]\n",
    "month(dff19,month19)\n",
    "month(dff20,month20)\n",
    "month(dff21,month21)"
   ],
   "metadata": {
    "collapsed": false,
    "pycharm": {
     "name": "#%%\n"
    }
   }
  },
  {
   "cell_type": "code",
   "execution_count": null,
   "outputs": [],
   "source": [
    "labels = ['1','2','3','4','5','6','7','8','9','10','11','12']\n",
    "\n",
    "x = np.arange(len(labels))  # the label locations\n",
    "width = 0.4  # the width of the bars\n",
    "\n",
    "fig, ax = plt.subplots()\n",
    "rects1 = ax.bar(x - width/2, month19, width, label='19')\n",
    "rects2 = ax.bar(x + width/2, month20, width+0.1, label='20')\n",
    "rects3 = ax.bar(x + width/2, month21, width, label='21')\n",
    "\n",
    "# Add some text for labels, title and custom x-axis tick labels, etc.\n",
    "ax.set_ylabel('temp')\n",
    "ax.set_title('temp by month')\n",
    "ax.set_xticks(x, labels)\n",
    "ax.legend()\n",
    "\n",
    "#ax.bar_label(rects1, padding=3)\n",
    "#ax.bar_label(rects2, padding=3)\n",
    "#ax.bar_label(rects3, padding=3)\n",
    "\n",
    "fig.tight_layout()\n",
    "\n",
    "plt.show()\n"
   ],
   "metadata": {
    "collapsed": false,
    "pycharm": {
     "name": "#%%\n"
    }
   }
  },
  {
   "cell_type": "code",
   "execution_count": null,
   "outputs": [],
   "source": [],
   "metadata": {
    "collapsed": false,
    "pycharm": {
     "name": "#%%\n"
    }
   }
  },
  {
   "cell_type": "code",
   "execution_count": null,
   "outputs": [],
   "source": [],
   "metadata": {
    "collapsed": false,
    "pycharm": {
     "name": "#%%\n"
    }
   }
  }
 ],
 "metadata": {
  "kernelspec": {
   "display_name": "Python 3",
   "language": "python",
   "name": "python3"
  },
  "language_info": {
   "codemirror_mode": {
    "name": "ipython",
    "version": 3
   },
   "file_extension": ".py",
   "mimetype": "text/x-python",
   "name": "python",
   "nbconvert_exporter": "python",
   "pygments_lexer": "ipython3",
   "version": "3.8.8"
  }
 },
 "nbformat": 4,
 "nbformat_minor": 5
}